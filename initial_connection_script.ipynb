{
 "cells": [
  {
   "cell_type": "markdown",
   "metadata": {},
   "source": [
    "# Initial Groq + Citi Bike Setup\n",
    "\n",
    "This notebook walks through connecting to the Groq LLM API and preparing the Citi Bike SQLite database so you can issue prompts and SQL queries."
   ]
  },
  {
   "cell_type": "code",
   "execution_count": null,
   "metadata": {},
   "outputs": [],
   "source": [
    "!wget -q https://raw.githubusercontent.com/alikarami76/genai-workshop/refs/heads/main/db_loader.py\n",
    "!wget -q https://raw.githubusercontent.com/alikarami76/genai-workshop/refs/heads/main/llm_connector.py\n",
    "!wget -q https://raw.githubusercontent.com/alikarami76/genai-workshop/refs/heads/main/requirements.txt"
   ]
  },
  {
   "cell_type": "markdown",
   "metadata": {},
   "source": [
    "## Step 1. Install dependencies\n",
    "\n",
    "Run the cell below once to install the `groq` client library. The command is idempotent but requires network access."
   ]
  },
  {
   "cell_type": "code",
   "execution_count": null,
   "metadata": {},
   "outputs": [],
   "source": [
    "%pip install -r requirements.txt"
   ]
  },
  {
   "cell_type": "markdown",
   "metadata": {},
   "source": [
    "## Step 2. Configure the Groq client\n",
    "\n",
    "Set your API key directly in this cell and instantiate the client. Replace the placeholder string with your actual key from the Groq console."
   ]
  },
  {
   "cell_type": "code",
   "execution_count": null,
   "metadata": {},
   "outputs": [],
   "source": [
    "from groq import Groq\n",
    "\n",
    "# Replace with your actual Groq API key before running.\n",
    "GROQ_API_KEY = \"gsk_replace_with_your_actual_key\"\n",
    "\n",
    "client = Groq(api_key=GROQ_API_KEY)\n",
    "\n",
    "\n",
    "def ask_groq(prompt: str, *, model: str = \"qwen/qwen3-32b\") -> str:\n",
    "    \"\"\"Send a user prompt to Groq and return the assistant's reply.\"\"\"\n",
    "    response = client.chat.completions.create(\n",
    "        model=model,\n",
    "        messages=[\n",
    "            {\"role\": \"system\", \"content\": \"You are a helpful data assistant.\"},\n",
    "            {\"role\": \"user\", \"content\": prompt},\n",
    "        ],\n",
    "    )\n",
    "    return response.choices[0].message.content.strip()\n"
   ]
  },
  {
   "cell_type": "markdown",
   "metadata": {},
   "source": [
    "## Step 3. Prepare the Citi Bike database connection\n",
    "\n",
    "The helper from `db_loader.py` downloads the dataset from Kaggle (if needed) and returns both a SQLite connection and a `run_query` convenience wrapper. Ensure your Kaggle credentials and CLI access are configured before running."
   ]
  },
  {
   "cell_type": "code",
   "execution_count": null,
   "metadata": {},
   "outputs": [],
   "source": [
    "from db_loader import prepare_citibike_database\n",
    "\n",
    "sqlite_path, conn, run_query = prepare_citibike_database()\n",
    "if run_query is None:\n",
    "    raise RuntimeError(\"Query helper was not created. Re-run the setup cell with build_query_runner=True.\")\n",
    "\n",
    "print(f\"Citi Bike database ready at: {sqlite_path}\")\n",
    "conn\n"
   ]
  },
  {
   "cell_type": "markdown",
   "metadata": {},
   "source": [
    "## Step 4. Send a prompt to the Groq LLM\n",
    "\n",
    "Use the helper to issue a prompt and capture the response. Adjust the prompt text as needed for your workflow."
   ]
  },
  {
   "cell_type": "code",
   "execution_count": null,
   "metadata": {},
   "outputs": [],
   "source": [
    "from IPython.display import Markdown, display\n",
    "prompt = \"How does an LLM work?\"\n",
    "llm_response = ask_groq(prompt)\n",
    "display(Markdown(llm_response))"
   ]
  },
  {
   "cell_type": "markdown",
   "metadata": {},
   "source": [
    "## Step 5. Inspect the database schema\n",
    "\n",
    "Query `sqlite_master` to view every table definition in the database. This provides an overview of the available tables and columns."
   ]
  },
  {
   "cell_type": "code",
   "execution_count": null,
   "metadata": {},
   "outputs": [],
   "source": [
    "schema_query = \"\"\"\n",
    "SELECT name, sql\n",
    "FROM sqlite_master\n",
    "WHERE type = 'table'\n",
    "ORDER BY name;\n",
    "\"\"\"\n",
    "schema_df = run_query(schema_query)\n",
    "schema_df\n"
   ]
  },
  {
   "cell_type": "markdown",
   "metadata": {},
   "source": [
    "## Step 6. Run a sample data query\n",
    "\n",
    "Fetch a few rows from one of the tables to verify the connection and preview the data."
   ]
  },
  {
   "cell_type": "code",
   "execution_count": null,
   "metadata": {},
   "outputs": [],
   "source": [
    "if schema_df.empty:\n",
    "    raise RuntimeError(\"No tables found in the Citi Bike database.\")\n",
    "\n",
    "sample_table = schema_df.loc[0, \"name\"]\n",
    "table_identifier = sample_table.replace('\\\"', '\\\"\\\"')\n",
    "print(f\"Previewing data from table: {sample_table}\")\n",
    "sample_df = run_query(f'SELECT * FROM \"{table_identifier}\" LIMIT 5;')\n",
    "sample_df\n"
   ]
  }
 ],
 "metadata": {
  "kernelspec": {
   "display_name": "Python 3",
   "language": "python",
   "name": "python3"
  },
  "language_info": {
   "codemirror_mode": {
    "name": "ipython",
    "version": 3
   },
   "file_extension": ".py",
   "mimetype": "text/x-python",
   "name": "python",
   "nbconvert_exporter": "python",
   "pygments_lexer": "ipython3",
   "version": "3.8.5"
  }
 },
 "nbformat": 4,
 "nbformat_minor": 4
}
