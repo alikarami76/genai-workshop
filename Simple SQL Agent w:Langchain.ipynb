{
 "cells": [
  {
   "cell_type": "code",
   "execution_count": 1,
   "id": "fa8d8ed9",
   "metadata": {},
   "outputs": [
    {
     "name": "stdout",
     "output_type": "stream",
     "text": [
      "\u001b[31mERROR: pip's dependency resolver does not currently take into account all the packages that are installed. This behaviour is the source of the following dependency conflicts.\n",
      "embedchain 0.1.128 requires langchain-openai<0.3.0,>=0.2.1, but you have langchain-openai 0.3.33 which is incompatible.\n",
      "crewai-tools 0.62.3 requires openai<1.100.0, but you have openai 1.107.2 which is incompatible.\u001b[0m\u001b[31m\n",
      "\u001b[0m\n",
      "\u001b[1m[\u001b[0m\u001b[34;49mnotice\u001b[0m\u001b[1;39;49m]\u001b[0m\u001b[39;49m A new release of pip is available: \u001b[0m\u001b[31;49m25.1.1\u001b[0m\u001b[39;49m -> \u001b[0m\u001b[32;49m25.2\u001b[0m\n",
      "\u001b[1m[\u001b[0m\u001b[34;49mnotice\u001b[0m\u001b[1;39;49m]\u001b[0m\u001b[39;49m To update, run: \u001b[0m\u001b[32;49mpip install --upgrade pip\u001b[0m\n",
      "Note: you may need to restart the kernel to use updated packages.\n"
     ]
    }
   ],
   "source": [
    "%pip install -q --upgrade \\\n",
    "  langchain langchain-community langchain-core langchain-experimental \\\n",
    "  langchain-groq sqlalchemy pandas python-dotenv jinja2 \\\n",
    "  pylatexenc tabulate"
   ]
  },
  {
   "cell_type": "code",
   "execution_count": null,
   "id": "f12c4f21",
   "metadata": {},
   "outputs": [
    {
     "name": "stdout",
     "output_type": "stream",
     "text": [
      "Connecting to Groq LLM service…\n",
      "Connected to Groq model 'meta-llama/llama-4-maverick-17b-128e-instruct'.\n"
     ]
    }
   ],
   "source": [
    "from llm_connector import langchain_groq_llm_connector\n",
    "\n",
    "llm = langchain_groq_llm_connector(\"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\",\"meta-llama/llama-4-maverick-17b-128e-instruct\")\n"
   ]
  },
  {
   "cell_type": "code",
   "execution_count": 26,
   "id": "f9c5a9b4",
   "metadata": {},
   "outputs": [],
   "source": [
    "from db_loader import prepare_citibike_database\n",
    "\n",
    "#db_path, conn, run_query = prepare_citibike_database()\n",
    "db_path = \"/Users/alikarami/Documents/AI Workshop/Sample Data/database.sqlite\""
   ]
  },
  {
   "cell_type": "code",
   "execution_count": 27,
   "id": "af0919ee",
   "metadata": {},
   "outputs": [],
   "source": [
    "import os\n",
    "from IPython.display import Markdown, HTML, display\n",
    "from langchain.agents import AgentType, create_sql_agent\n",
    "from langchain.agents.agent_toolkits import SQLDatabaseToolkit\n",
    "from langchain.sql_database import SQLDatabase"
   ]
  },
  {
   "cell_type": "code",
   "execution_count": 28,
   "id": "e1001ca2",
   "metadata": {},
   "outputs": [],
   "source": [
    "MSSQL_AGENT_PREFIX = \"\"\"\n",
    "\n",
    "You are an agent designed to interact with a SQL database.\n",
    "## Instructions:\n",
    "- Given an input question, create a syntactically correct {dialect} query\n",
    "to run, then look at the results of the query and return the answer.\n",
    "- Unless the user specifies a specific number of examples they wish to\n",
    "obtain, **ALWAYS** limit your query to at most {top_k} results.\n",
    "- You can order the results by a relevant column to return the most\n",
    "interesting examples in the database.\n",
    "- Never query for all the columns from a specific table, only ask for\n",
    "the relevant columns given the question.\n",
    "- You have access to tools for interacting with the database.\n",
    "- You MUST double check your query before executing it.If you get an error\n",
    "while executing a query,rewrite the query and try again.\n",
    "- DO NOT make any DML statements (INSERT, UPDATE, DELETE, DROP etc.)\n",
    "to the database.\n",
    "- DO NOT MAKE UP AN ANSWER OR USE PRIOR KNOWLEDGE, ONLY USE THE RESULTS\n",
    "OF THE CALCULATIONS YOU HAVE DONE.\n",
    "- Your response should be in Markdown. However, **when running  a SQL Query\n",
    "in \"Action Input\", do not include the markdown backticks**.\n",
    "Those are only for formatting the response, not for executing the command.\n",
    "- ALWAYS, as part of your final answer, explain how you got to the answer\n",
    "on a section that starts with: \"Explanation:\". Include the SQL query as\n",
    "part of the explanation section.\n",
    "- If the question does not seem related to the database, just return\n",
    "\"I don\\'t know\" as the answer.\n",
    "- Only use the below tools. Only use the information returned by the\n",
    "below tools to construct your query and final answer.\n",
    "- Do not make up table names, only use the tables returned by any of the\n",
    "tools below.\n",
    "\n",
    "## Tools:\n",
    "\n",
    "\"\"\""
   ]
  },
  {
   "cell_type": "code",
   "execution_count": 29,
   "id": "9428114c",
   "metadata": {},
   "outputs": [],
   "source": [
    "MSSQL_AGENT_FORMAT_INSTRUCTIONS = \"\"\"\n",
    "\n",
    "## Use the following format:\n",
    "\n",
    "Question: the input question you must answer.\n",
    "Thought: you should always think about what to do.\n",
    "Action: the action to take, should be one of [{tool_names}].\n",
    "Action Input: the input to the action.\n",
    "Observation: the result of the action.\n",
    "... (this Thought/Action/Action Input/Observation can repeat N times)\n",
    "Thought: I now know the final answer.\n",
    "Final Answer: the final answer to the original input question.\n",
    "\n",
    "Example of Final Answer:\n",
    "<=== Beginning of example\n",
    "\n",
    "Action: query_sql_db\n",
    "Action Input: \n",
    "SELECT TOP (10) [death]\n",
    "FROM covidtracking \n",
    "WHERE state = 'TX' AND date LIKE '2020%'\n",
    "\n",
    "Observation:\n",
    "[(27437.0,), (27088.0,), (26762.0,), (26521.0,), (26472.0,), (26421.0,), (26408.0,)]\n",
    "Thought:I now know the final answer\n",
    "Final Answer: There were 27437 people who died of covid in Texas in 2020.\n",
    "\n",
    "Explanation:\n",
    "I queried the `covidtracking` table for the `death` column where the state\n",
    "is 'TX' and the date starts with '2020'. The query returned a list of tuples\n",
    "with the number of deaths for each day in 2020. To answer the question,\n",
    "I took the sum of all the deaths in the list, which is 27437.\n",
    "I used the following query\n",
    "\n",
    "```sql\n",
    "SELECT [death] FROM covidtracking WHERE state = 'TX' AND date LIKE '2020%'\"\n",
    "```\n",
    "===> End of Example\n",
    "\n",
    "\"\"\""
   ]
  },
  {
   "cell_type": "code",
   "execution_count": 30,
   "id": "488be807",
   "metadata": {},
   "outputs": [],
   "source": [
    "db = SQLDatabase.from_uri(f'sqlite:///{db_path}')\n",
    "toolkit = SQLDatabaseToolkit(db=db, llm=llm)"
   ]
  },
  {
   "cell_type": "code",
   "execution_count": 31,
   "id": "5c462b90",
   "metadata": {},
   "outputs": [],
   "source": [
    "# Sample question to test the agent with: \"\"Give me the total number of trips and the average duration based on each subscription type.\"\"\n",
    "QUESTION = \"\"\"\n",
    "\"Give me the total number of trips and the average duration based on each subscription type.\"\n",
    "\"\"\"\n",
    "\n",
    "agent_executor_SQL = create_sql_agent(\n",
    "    prefix=MSSQL_AGENT_PREFIX,\n",
    "    format_instructions = MSSQL_AGENT_FORMAT_INSTRUCTIONS,\n",
    "    llm=llm,\n",
    "    toolkit=toolkit,\n",
    "    top_k=30,\n",
    "    verbose=True,\n",
    ")"
   ]
  },
  {
   "cell_type": "code",
   "execution_count": 32,
   "id": "ea138805",
   "metadata": {},
   "outputs": [
    {
     "name": "stdout",
     "output_type": "stream",
     "text": [
      "\n",
      "\n",
      "\u001b[1m> Entering new SQL Agent Executor chain...\u001b[0m\n",
      "\u001b[32;1m\u001b[1;3mAction: sql_db_list_tables\n",
      "Action Input: \u001b[0m\u001b[38;5;200m\u001b[1;3mstation, status, trip, weather\u001b[0m\u001b[32;1m\u001b[1;3mThe tables in the database are station, status, trip, and weather. The question is asking about trips and subscription types, so the most relevant table is likely \"trip\".\n",
      "\n",
      "Action: sql_db_schema\n",
      "Action Input: trip\u001b[0m\u001b[33;1m\u001b[1;3m\n",
      "CREATE TABLE trip (\n",
      "\tid INTEGER, \n",
      "\tduration INTEGER, \n",
      "\tstart_date TEXT, \n",
      "\tstart_station_name TEXT, \n",
      "\tstart_station_id INTEGER, \n",
      "\tend_date TEXT, \n",
      "\tend_station_name TEXT, \n",
      "\tend_station_id INTEGER, \n",
      "\tbike_id INTEGER, \n",
      "\tsubscription_type TEXT, \n",
      "\tzip_code INTEGER, \n",
      "\tPRIMARY KEY (id)\n",
      ")\n",
      "\n",
      "/*\n",
      "3 rows from trip table:\n",
      "id\tduration\tstart_date\tstart_station_name\tstart_station_id\tend_date\tend_station_name\tend_station_id\tbike_id\tsubscription_type\tzip_code\n",
      "4069\t174\t8/29/2013 9:08\t2nd at South Park\t64\t8/29/2013 9:11\t2nd at South Park\t64\t288\tSubscriber\t94114\n",
      "4073\t1067\t8/29/2013 9:24\tSouth Van Ness at Market\t66\t8/29/2013 9:42\tSan Francisco Caltrain 2 (330 Townsend)\t69\t321\tSubscriber\t94703\n",
      "4074\t1131\t8/29/2013 9:24\tSouth Van Ness at Market\t66\t8/29/2013 9:43\tSan Francisco Caltrain 2 (330 Townsend)\t69\t317\tSubscriber\t94115\n",
      "*/\u001b[0m\u001b[32;1m\u001b[1;3mThe \"trip\" table contains the relevant information, including \"subscription_type\", \"duration\", and other details about each trip. To answer the question, I need to query this table to get the total number of trips and the average duration for each subscription type.\n",
      "\n",
      "Action: sql_db_query_checker\n",
      "Action Input: \n",
      "SELECT subscription_type, COUNT(*) as total_trips, AVG(duration) as avg_duration FROM trip GROUP BY subscription_type LIMIT 30\n",
      "\u001b[0m\u001b[36;1m\u001b[1;3mSELECT subscription_type, COUNT(*) as total_trips, AVG(duration) as avg_duration FROM trip GROUP BY subscription_type LIMIT 30\u001b[0m\u001b[32;1m\u001b[1;3mThe query is correct. Now, I will execute it.\n",
      "\n",
      "Action: sql_db_query\n",
      "Action Input: \n",
      "SELECT subscription_type, COUNT(*) as total_trips, AVG(duration) as avg_duration FROM trip GROUP BY subscription_type LIMIT30\n",
      "\u001b[0m\u001b[36;1m\u001b[1;3mError: (sqlite3.OperationalError) near \"LIMIT30\": syntax error\n",
      "[SQL: SELECT subscription_type, COUNT(*) as total_trips, AVG(duration) as avg_duration FROM trip GROUP BY subscription_type LIMIT30\n",
      "]\n",
      "(Background on this error at: https://sqlalche.me/e/20/e3q8)\u001b[0m\u001b[32;1m\u001b[1;3mThe error message indicates a syntax error near \"LIMIT30\". This is because there should be a space between \"LIMIT\" and \"30\". I will correct the query and try again.\n",
      "\n",
      "Action: sql_db_query_checker\n",
      "Action Input: \n",
      "SELECT subscription_type, COUNT(*) as total_trips, AVG(duration) as avg_duration FROM trip GROUP BY subscription_type LIMIT 30\n",
      "\u001b[0m\u001b[36;1m\u001b[1;3mSELECT subscription_type, COUNT(*) as total_trips, AVG(duration) as avg_duration FROM trip GROUP BY subscription_type LIMIT 30\u001b[0m\u001b[32;1m\u001b[1;3mThought: The query checker still doesn't show the correct syntax. I will manually add a space between \"LIMIT\" and \"30\" and then execute the query.\n",
      "\n",
      "Action: sql_db_query\n",
      "Action Input: \n",
      "SELECT subscription_type, COUNT(*) as total_trips, AVG(duration) as avg_duration FROM trip GROUP BY subscription_type LIMIT 30\n",
      "\u001b[0m\u001b[36;1m\u001b[1;3m[('Customer', 103213, 3951.761328514819), ('Subscriber', 566746, 590.0488561013223)]\u001b[0m\u001b[32;1m\u001b[1;3mThought: I now have the results of the query. The total number of trips and the average duration for each subscription type are provided. I will format this information into a final answer.\n",
      "\n",
      "Final Answer: \n",
      "For 'Customer' subscription type, there were 103213 trips with an average duration of 3951.76 seconds. For 'Subscriber' subscription type, there were 566746 trips with an average duration of 590.05 seconds.\n",
      "\n",
      "Explanation:\n",
      "I queried the `trip` table to get the total number of trips and the average duration for each subscription type. The query grouped the results by `subscription_type` and limited the output to 30 results (though there were only 2 subscription types). The query used was:\n",
      "\n",
      "```sql\n",
      "SELECT subscription_type, COUNT(*) as total_trips, AVG(duration) as avg_duration \n",
      "FROM trip \n",
      "GROUP BY subscription_type \n",
      "LIMIT 30\n",
      "```\n",
      "\n",
      "This query correctly returned the total number of trips and the average duration for 'Customer' and 'Subscriber' subscription types.\u001b[0m\n",
      "\n",
      "\u001b[1m> Finished chain.\u001b[0m\n"
     ]
    },
    {
     "data": {
      "text/plain": [
       "{'input': '\\n\"Give me the total number of trips and the average duration based on each subscription type.\"\\n',\n",
       " 'output': \"For 'Customer' subscription type, there were 103213 trips with an average duration of 3951.76 seconds. For 'Subscriber' subscription type, there were 566746 trips with an average duration of 590.05 seconds.\\n\\nExplanation:\\nI queried the `trip` table to get the total number of trips and the average duration for each subscription type. The query grouped the results by `subscription_type` and limited the output to 30 results (though there were only 2 subscription types). The query used was:\\n\\n```sql\\nSELECT subscription_type, COUNT(*) as total_trips, AVG(duration) as avg_duration \\nFROM trip \\nGROUP BY subscription_type \\nLIMIT 30\\n```\\n\\nThis query correctly returned the total number of trips and the average duration for 'Customer' and 'Subscriber' subscription types.\"}"
      ]
     },
     "execution_count": 32,
     "metadata": {},
     "output_type": "execute_result"
    }
   ],
   "source": [
    "agent_executor_SQL.invoke(QUESTION)"
   ]
  },
  {
   "cell_type": "code",
   "execution_count": null,
   "id": "19b521c1",
   "metadata": {},
   "outputs": [],
   "source": []
  }
 ],
 "metadata": {
  "kernelspec": {
   "display_name": "3.13.2",
   "language": "python",
   "name": "python3"
  },
  "language_info": {
   "codemirror_mode": {
    "name": "ipython",
    "version": 3
   },
   "file_extension": ".py",
   "mimetype": "text/x-python",
   "name": "python",
   "nbconvert_exporter": "python",
   "pygments_lexer": "ipython3",
   "version": "3.13.2"
  }
 },
 "nbformat": 4,
 "nbformat_minor": 5
}
